{
 "cells": [
  {
   "cell_type": "code",
   "execution_count": null,
   "metadata": {},
   "outputs": [],
   "source": [
    "import numpy as np\n",
    "from sklearn.cluster import KMeans\n",
    "import cv2\n",
    "import datetime\n",
    "from matplotlib import pyplot as plt\n",
    "import time"
   ]
  },
  {
   "cell_type": "code",
   "execution_count": null,
   "metadata": {},
   "outputs": [],
   "source": [
    "image1=cv2.imread(\"mri1.jpg\")\n",
    "image2=cv2.imread(\"mri2.jpg\")\n",
    "image3=cv2.imread(\"Berlin.jpg\")\n",
    "image=[image1,image2,image3]\n",
    "reshaped=[0,0,0]\n",
    "for i in range(0,3):\n",
    "    reshaped[i] = image[i].reshape(image[i].shape[0] * image[i].shape[1], image[i].shape[2])"
   ]
  },
  {
   "cell_type": "code",
   "execution_count": null,
   "metadata": {},
   "outputs": [],
   "source": [
    "numClusters=list(map(int,input(\"Enter the number of culsters for image 1,2 and 3 respectively: \").split(\" \")))"
   ]
  },
  {
   "cell_type": "code",
   "execution_count": null,
   "metadata": {},
   "outputs": [],
   "source": [
    "clustering=[0,0,0]\n",
    "for i in range(0,3):\n",
    "    kmeans = KMeans(n_clusters=numClusters[i], n_init=40, max_iter=500).fit(reshaped[i])\n",
    "    clustering[i] = np.reshape(np.array(kmeans.labels_, dtype=np.uint8),\n",
    "    (image[i].shape[0], image[i].shape[1]))"
   ]
  },
  {
   "cell_type": "code",
   "execution_count": null,
   "metadata": {},
   "outputs": [],
   "source": [
    "sortedLabels=[[],[],[]]\n",
    "for i in range(0,3):\n",
    "    sortedLabels[i] = sorted([n for n in range(numClusters[i])],\n",
    "        key=lambda x: -np.sum(clustering[i] == x))"
   ]
  },
  {
   "cell_type": "code",
   "execution_count": null,
   "metadata": {},
   "outputs": [],
   "source": [
    "kmeansImage=[0,0,0]\n",
    "concatImage=[[],[],[]]\n",
    "for j in range(0,3):\n",
    "    kmeansImage[j] = np.zeros(image[j].shape[:2], dtype=np.uint8)\n",
    "    for i, label in enumerate(sortedLabels[j]):\n",
    "        kmeansImage[j][ clustering[j] == label ] = int((255) / (numClusters[j] - 1)) * i\n",
    "    concatImage[j] = np.concatenate((image[j],193 * np.ones((image[j].shape[0], int(0.0625 * image[j].shape[1]), 3), dtype=np.uint8),cv2.cvtColor(kmeansImage[j], cv2.COLOR_GRAY2BGR)), axis=1)"
   ]
  },
  {
   "cell_type": "code",
   "execution_count": null,
   "metadata": {},
   "outputs": [],
   "source": [
    "print(plt.imshow(concatImage[0]))"
   ]
  },
  {
   "cell_type": "code",
   "execution_count": null,
   "metadata": {},
   "outputs": [],
   "source": [
    "print(plt.imshow(concatImage[1]))"
   ]
  },
  {
   "cell_type": "code",
   "execution_count": null,
   "metadata": {},
   "outputs": [],
   "source": [
    "print(plt.imshow(concatImage[2]))"
   ]
  },
  {
   "cell_type": "code",
   "execution_count": null,
   "metadata": {},
   "outputs": [],
   "source": [
    "for i in range(0,3):\n",
    "    dt = datetime.datetime.now()\n",
    "    fileExtension = \"png\"\n",
    "    filename = (str(dt.hour)\n",
    "        + ':'+str(dt.minute) + ':'+str(dt.second)\n",
    "        + ' C_' + str(numClusters[i]) + '.' + fileExtension)\n",
    "    print(filename)\n",
    "    time.sleep(1)\n",
    "    cv2.imwrite(filename, concatImage[i])"
   ]
  },
  {
   "cell_type": "code",
   "execution_count": null,
   "metadata": {},
   "outputs": [],
   "source": [
    "print(\"Hello, Jupyter!\")\n"
   ]
  },
  {
   "cell_type": "code",
   "execution_count": null,
   "metadata": {},
   "outputs": [],
   "source": []
  }
 ],
 "metadata": {
  "kernelspec": {
   "display_name": "Python 3 (ipykernel)",
   "language": "python",
   "name": "python3"
  },
  "language_info": {
   "codemirror_mode": {
    "name": "ipython",
    "version": 3
   },
   "file_extension": ".py",
   "mimetype": "text/x-python",
   "name": "python",
   "nbconvert_exporter": "python",
   "pygments_lexer": "ipython3",
   "version": "3.12.6"
  },
  "varInspector": {
   "cols": {
    "lenName": 16,
    "lenType": 16,
    "lenVar": 40
   },
   "kernels_config": {
    "python": {
     "delete_cmd_postfix": "",
     "delete_cmd_prefix": "del ",
     "library": "var_list.py",
     "varRefreshCmd": "print(var_dic_list())"
    },
    "r": {
     "delete_cmd_postfix": ") ",
     "delete_cmd_prefix": "rm(",
     "library": "var_list.r",
     "varRefreshCmd": "cat(var_dic_list()) "
    }
   },
   "types_to_exclude": [
    "module",
    "function",
    "builtin_function_or_method",
    "instance",
    "_Feature"
   ],
   "window_display": false
  }
 },
 "nbformat": 4,
 "nbformat_minor": 4
}
